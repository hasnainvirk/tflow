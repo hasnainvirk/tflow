{
 "metadata": {
  "language_info": {
   "codemirror_mode": {
    "name": "ipython",
    "version": 3
   },
   "file_extension": ".py",
   "mimetype": "text/x-python",
   "name": "python",
   "nbconvert_exporter": "python",
   "pygments_lexer": "ipython3",
   "version": "3.8.5"
  },
  "orig_nbformat": 2,
  "kernelspec": {
   "name": "python38564bittflowvirtualenvwrapperff4a3ff39ecc4e298fd2c21fd802ff24",
   "display_name": "Python 3.8.5 64-bit ('tflow': virtualenvwrapper)",
   "language": "python"
  }
 },
 "nbformat": 4,
 "nbformat_minor": 2,
 "cells": [
  {
   "source": [
    "# Minimizing Loss\n",
    "This notebook is a learning exercise inspired from Harvard edx TinyML course. \n",
    "The idea here is to write a simple, single layered neuron that learns a linear equation:\n",
    "y = wx + b\n",
    "and predicts y for a given x where w is the wight and b is the bias parameter. Basically the model has to learn how to adjust w and b to get to a predicted y as close as possible to reality.\n",
    "\n",
    "## Main Idea\n",
    "The main idea here is to minimize a loss function. In a machine learning model you provide the model with Questions and known Answers to these questions. Model churns out the inputs and figure out Rules that can be applied to figure out future Answers to new Unseen Questions.\n",
    "\n",
    "## ML Paradigm\n",
    "ML paradigm diagram basically envisions 3 blocks:\n",
    "\n",
    "-> Repeat N times <br>\n",
    "Guess | Predict | Measure & minimize Loss\n",
    "\n",
    "## Measuring and Minimizing Loss\n",
    "One way to measure the difference between the guess and prediction is to literally take the difference of the two values, like (Guess - Prediction). Now this value can become negative and it can have unwanted consequences. So we can square the value up and take it's square root. That way, we eliminate -ve values and have a positive integer that is the measure of the loss at that moment. \n",
    "**This is basically 'Mean Squared Error' algorithm.** \n",
    "\n",
    "We know that taking squares of values mean that we have a parabola here to talk about. Thinking about parabola tells us that the minimum value of the parabola is right at the bottom of the inversed bell shape. This is the global minimum of the parabola. We need to move towards that point if we wish to minimize the error, i.e., to minimize the loss. Calculus can help us here. Taking derivative at any point gives us the slope of the gradient going towards the bottom of the parabola. That's exactly what we want. So we keep taking derivatives and move downwards the slope of the gradient. \n",
    "** This is called as Stochastic Gradient Descent.**\n",
    "One important thing to keep in mind is the rate at which we move down the gradient should be chosen very carefully. Too small value would mean we will take excruciatingly long time to arrive at the bottom. Choosing too large a value would mean that we may run pass the global minima and encounter a ping pong like situation where we never reach global minima and have to settle on a sub-optimal minimum value.\n",
    "** This value is called as Learning Rate.**"
   ],
   "cell_type": "markdown",
   "metadata": {}
  },
  {
   "cell_type": "code",
   "execution_count": 65,
   "metadata": {},
   "outputs": [],
   "source": [
    "import tensorflow as tf\n",
    "import numpy as np\n",
    "import matplotlib.pyplot as plt\n",
    "\n",
    "# Initial random guess for w and b\n",
    "INITIAL_WEIGHT_W = 10.0\n",
    "INITIAL_BIAS_B = 10.0\n",
    "\n",
    "# Learning rate is the amount by which we move down the gradient\n",
    "LEARNING_RATE = 0.09\n",
    "\n",
    "# xs is the data input, Questions\n",
    "xs = [-1.0, 0.0, 1.0, 2.0, 3.0, 4.0]\n",
    "# ys is the training input, Answers\n",
    "ys = [-3.0, -1.0, -1.0, 3.0, 5.0, 7.0]\n",
    "# Training model has to figure out the relation between xs and ys\n",
    "# which is by the way y=wx+b where w = 2 and b = -1\n",
    "TRUE_W = 2.0\n",
    "TRUE_B = -1.0\n",
    "\n",
    "# lists to keep step details during training to visualize\n",
    "list_b = []\n",
    "list_w = []\n",
    "list_losses = []\n",
    "epochs = range(100)"
   ]
  },
  {
   "source": [
    "## Model definition"
   ],
   "cell_type": "markdown",
   "metadata": {}
  },
  {
   "cell_type": "code",
   "execution_count": 66,
   "metadata": {},
   "outputs": [],
   "source": [
    "# This is our model that basically defines the function that gives us the result \n",
    "# of the prediction, i.e., for given b and w, this object will calculate y=wx+b\n",
    "class Model():\n",
    "    # constructor \n",
    "    def __init__(self):\n",
    "        # these variables are public and they will be updated by the callers of the \n",
    "        # operator function __call__      \n",
    "        self.w = tf.Variable(INITIAL_WEIGHT_W)\n",
    "        self.b = tf.Variable(INITIAL_BIAS_B)\n",
    "    \n",
    "    # operator function\n",
    "    def __call__(self, x):\n",
    "        return self.w*x + self.b"
   ]
  },
  {
   "source": [
    "## Calculating Loss"
   ],
   "cell_type": "markdown",
   "metadata": {}
  },
  {
   "cell_type": "code",
   "execution_count": 67,
   "metadata": {},
   "outputs": [],
   "source": [
    "# Function that calculates loss\n",
    "def CalculateLoss(predictedY, targetY):\n",
    "    # we take difference of the predicted and target value and square it up\n",
    "    # to eliminate -ves and then take a mean (average) of the whole tensor.\n",
    "    # we have only 1 dim tesnor.\n",
    "    return tf.reduce_mean(tf.square(predictedY - targetY))"
   ]
  },
  {
   "source": [
    "## Training process\n",
    "\n",
    "Here there a few things to note about my implementation. I am trying to do all epochs in one go inside the training method, unlike Harvard approach. Now, GradientTape releases resources as soon as the tape.gradient method is invoked. That's why I am going to use custom calling mechanism here where I will tell the tape to be persistent and watch over the gradients only for the variables I will ask it to watch over."
   ],
   "cell_type": "markdown",
   "metadata": {}
  },
  {
   "cell_type": "code",
   "execution_count": 68,
   "metadata": {},
   "outputs": [
    {
     "output_type": "stream",
     "name": "stdout",
     "text": [
      "0\n0\n"
     ]
    }
   ],
   "source": [
    "# This method does the actual training. It is using TensorFlow's GradientTape construct to \n",
    "# perform derivatives. \n",
    "def DoTraining(model, inputData, trainingData, epochs):\n",
    "    for epoch in epochs:\n",
    "        list_w.append(model.w.numpy())\n",
    "        list_b.append(model.b.numpy())\n",
    "        with tf.GradientTape(persistent=True, watch_accessed_variables=False) as tape:\n",
    "            tape.watch([model.w, model.b])\n",
    "            currentLoss = CalculateLoss(model(inputData), trainingData)\n",
    "        dw, db = tape.gradient(currentLoss, [model.w, model.b])\n",
    "        # now we have derivative i.e., slope indication of 'currentLoss' given\n",
    "        # w and b and hence we can assign new values to b and w to adjust the model\n",
    "        # for next iteration\n",
    "        model.w.assign_sub(dw * LEARNING_RATE)\n",
    "        model.b.assign_sub(db * LEARNING_RATE)\n",
    "\n",
    "        # this is just for showing a nice little graph\n",
    "        list_losses.append(currentLoss)\n",
    "\n",
    "        print('epcoh=%2d, w=%1.2f, b=%1.2f, loss=%2.5f' % (epoch, list_w[-1], list_b[-1], currentLoss))"
   ]
  },
  {
   "source": [
    "## Putting it all together\n",
    "\n",
    "This part uses the Model, Training and Loss Calculation given above to make a ML neuron."
   ],
   "cell_type": "markdown",
   "metadata": {}
  },
  {
   "cell_type": "code",
   "execution_count": 69,
   "metadata": {},
   "outputs": [
    {
     "output_type": "stream",
     "name": "stdout",
     "text": [
      "epcoh= 0, w=10.00, b=10.00, loss=729.00000\n",
      "epcoh= 1, w=-0.47, b=5.80, loss=30.92664\n",
      "epcoh= 2, w=-0.07, b=5.18, loss=25.37730\n",
      "epcoh= 3, w=0.13, b=4.57, loss=20.97735\n",
      "epcoh= 4, w=0.31, b=4.01, loss=17.35709\n",
      "epcoh= 5, w=0.47, b=3.51, loss=14.37830\n",
      "epcoh= 6, w=0.62, b=3.05, loss=11.92734\n",
      "epcoh= 7, w=0.75, b=2.63, loss=9.91066\n",
      "epcoh= 8, w=0.87, b=2.26, loss=8.25132\n",
      "epcoh= 9, w=0.98, b=1.92, loss=6.88601\n",
      "epcoh=10, w=1.08, b=1.61, loss=5.76261\n",
      "epcoh=11, w=1.17, b=1.33, loss=4.83828\n",
      "epcoh=12, w=1.25, b=1.07, loss=4.07773\n",
      "epcoh=13, w=1.33, b=0.84, loss=3.45194\n",
      "epcoh=14, w=1.40, b=0.63, loss=2.93703\n",
      "epcoh=15, w=1.46, b=0.44, loss=2.51337\n",
      "epcoh=16, w=1.51, b=0.27, loss=2.16477\n",
      "epcoh=17, w=1.56, b=0.11, loss=1.87794\n",
      "epcoh=18, w=1.61, b=-0.03, loss=1.64194\n",
      "epcoh=19, w=1.65, b=-0.16, loss=1.44775\n",
      "epcoh=20, w=1.69, b=-0.28, loss=1.28798\n",
      "epcoh=21, w=1.72, b=-0.38, loss=1.15651\n",
      "epcoh=22, w=1.75, b=-0.48, loss=1.04834\n",
      "epcoh=23, w=1.78, b=-0.57, loss=0.95933\n",
      "epcoh=24, w=1.81, b=-0.65, loss=0.88610\n",
      "epcoh=25, w=1.83, b=-0.72, loss=0.82584\n",
      "epcoh=26, w=1.85, b=-0.78, loss=0.77626\n",
      "epcoh=27, w=1.87, b=-0.84, loss=0.73547\n",
      "epcoh=28, w=1.89, b=-0.90, loss=0.70190\n",
      "epcoh=29, w=1.90, b=-0.94, loss=0.67428\n",
      "epcoh=30, w=1.92, b=-0.99, loss=0.65156\n",
      "epcoh=31, w=1.93, b=-1.03, loss=0.63286\n",
      "epcoh=32, w=1.94, b=-1.06, loss=0.61747\n",
      "epcoh=33, w=1.95, b=-1.10, loss=0.60481\n",
      "epcoh=34, w=1.96, b=-1.13, loss=0.59440\n",
      "epcoh=35, w=1.97, b=-1.15, loss=0.58583\n",
      "epcoh=36, w=1.98, b=-1.18, loss=0.57878\n",
      "epcoh=37, w=1.99, b=-1.20, loss=0.57297\n",
      "epcoh=38, w=1.99, b=-1.22, loss=0.56820\n",
      "epcoh=39, w=2.00, b=-1.24, loss=0.56427\n",
      "epcoh=40, w=2.00, b=-1.26, loss=0.56104\n",
      "epcoh=41, w=2.01, b=-1.27, loss=0.55838\n",
      "epcoh=42, w=2.01, b=-1.29, loss=0.55619\n",
      "epcoh=43, w=2.02, b=-1.30, loss=0.55439\n",
      "epcoh=44, w=2.02, b=-1.31, loss=0.55291\n",
      "epcoh=45, w=2.02, b=-1.32, loss=0.55169\n",
      "epcoh=46, w=2.03, b=-1.33, loss=0.55069\n",
      "epcoh=47, w=2.03, b=-1.34, loss=0.54986\n",
      "epcoh=48, w=2.03, b=-1.34, loss=0.54918\n",
      "epcoh=49, w=2.04, b=-1.35, loss=0.54863\n",
      "epcoh=50, w=2.04, b=-1.36, loss=0.54817\n",
      "epcoh=51, w=2.04, b=-1.36, loss=0.54779\n",
      "epcoh=52, w=2.04, b=-1.37, loss=0.54748\n",
      "epcoh=53, w=2.04, b=-1.37, loss=0.54722\n",
      "epcoh=54, w=2.04, b=-1.38, loss=0.54701\n",
      "epcoh=55, w=2.05, b=-1.38, loss=0.54684\n",
      "epcoh=56, w=2.05, b=-1.38, loss=0.54669\n",
      "epcoh=57, w=2.05, b=-1.39, loss=0.54658\n",
      "epcoh=58, w=2.05, b=-1.39, loss=0.54648\n",
      "epcoh=59, w=2.05, b=-1.39, loss=0.54640\n",
      "epcoh=60, w=2.05, b=-1.40, loss=0.54634\n",
      "epcoh=61, w=2.05, b=-1.40, loss=0.54628\n",
      "epcoh=62, w=2.05, b=-1.40, loss=0.54624\n",
      "epcoh=63, w=2.05, b=-1.40, loss=0.54620\n",
      "epcoh=64, w=2.05, b=-1.40, loss=0.54617\n",
      "epcoh=65, w=2.05, b=-1.40, loss=0.54615\n",
      "epcoh=66, w=2.05, b=-1.41, loss=0.54613\n",
      "epcoh=67, w=2.05, b=-1.41, loss=0.54611\n",
      "epcoh=68, w=2.05, b=-1.41, loss=0.54610\n",
      "epcoh=69, w=2.05, b=-1.41, loss=0.54608\n",
      "epcoh=70, w=2.05, b=-1.41, loss=0.54607\n",
      "epcoh=71, w=2.05, b=-1.41, loss=0.54607\n",
      "epcoh=72, w=2.05, b=-1.41, loss=0.54606\n",
      "epcoh=73, w=2.06, b=-1.41, loss=0.54606\n",
      "epcoh=74, w=2.06, b=-1.41, loss=0.54605\n",
      "epcoh=75, w=2.06, b=-1.41, loss=0.54605\n",
      "epcoh=76, w=2.06, b=-1.41, loss=0.54605\n",
      "epcoh=77, w=2.06, b=-1.41, loss=0.54604\n",
      "epcoh=78, w=2.06, b=-1.42, loss=0.54604\n",
      "epcoh=79, w=2.06, b=-1.42, loss=0.54604\n",
      "epcoh=80, w=2.06, b=-1.42, loss=0.54604\n",
      "epcoh=81, w=2.06, b=-1.42, loss=0.54604\n",
      "epcoh=82, w=2.06, b=-1.42, loss=0.54604\n",
      "epcoh=83, w=2.06, b=-1.42, loss=0.54604\n",
      "epcoh=84, w=2.06, b=-1.42, loss=0.54603\n",
      "epcoh=85, w=2.06, b=-1.42, loss=0.54603\n",
      "epcoh=86, w=2.06, b=-1.42, loss=0.54603\n",
      "epcoh=87, w=2.06, b=-1.42, loss=0.54603\n",
      "epcoh=88, w=2.06, b=-1.42, loss=0.54603\n",
      "epcoh=89, w=2.06, b=-1.42, loss=0.54603\n",
      "epcoh=90, w=2.06, b=-1.42, loss=0.54603\n",
      "epcoh=91, w=2.06, b=-1.42, loss=0.54603\n",
      "epcoh=92, w=2.06, b=-1.42, loss=0.54603\n",
      "epcoh=93, w=2.06, b=-1.42, loss=0.54603\n",
      "epcoh=94, w=2.06, b=-1.42, loss=0.54603\n",
      "epcoh=95, w=2.06, b=-1.42, loss=0.54603\n",
      "epcoh=96, w=2.06, b=-1.42, loss=0.54603\n",
      "epcoh=97, w=2.06, b=-1.42, loss=0.54603\n",
      "epcoh=98, w=2.06, b=-1.42, loss=0.54603\n",
      "epcoh=99, w=2.06, b=-1.42, loss=0.54603\n"
     ]
    }
   ],
   "source": [
    "model = Model()\n",
    "DoTraining(model, xs, ys, epochs)"
   ]
  },
  {
   "source": [
    "## Plot the results"
   ],
   "cell_type": "markdown",
   "metadata": {}
  },
  {
   "cell_type": "code",
   "execution_count": 71,
   "metadata": {},
   "outputs": [
    {
     "output_type": "display_data",
     "data": {
      "text/plain": "<Figure size 432x288 with 1 Axes>",
      "image/svg+xml": "<?xml version=\"1.0\" encoding=\"utf-8\" standalone=\"no\"?>\n<!DOCTYPE svg PUBLIC \"-//W3C//DTD SVG 1.1//EN\"\n  \"http://www.w3.org/Graphics/SVG/1.1/DTD/svg11.dtd\">\n<!-- Created with matplotlib (https://matplotlib.org/) -->\n<svg height=\"248.518125pt\" version=\"1.1\" viewBox=\"0 0 368.925 248.518125\" width=\"368.925pt\" xmlns=\"http://www.w3.org/2000/svg\" xmlns:xlink=\"http://www.w3.org/1999/xlink\">\n <metadata>\n  <rdf:RDF xmlns:cc=\"http://creativecommons.org/ns#\" xmlns:dc=\"http://purl.org/dc/elements/1.1/\" xmlns:rdf=\"http://www.w3.org/1999/02/22-rdf-syntax-ns#\">\n   <cc:Work>\n    <dc:type rdf:resource=\"http://purl.org/dc/dcmitype/StillImage\"/>\n    <dc:date>2021-02-19T00:59:38.423648</dc:date>\n    <dc:format>image/svg+xml</dc:format>\n    <dc:creator>\n     <cc:Agent>\n      <dc:title>Matplotlib v3.3.4, https://matplotlib.org/</dc:title>\n     </cc:Agent>\n    </dc:creator>\n   </cc:Work>\n  </rdf:RDF>\n </metadata>\n <defs>\n  <style type=\"text/css\">*{stroke-linecap:butt;stroke-linejoin:round;}</style>\n </defs>\n <g id=\"figure_1\">\n  <g id=\"patch_1\">\n   <path d=\"M -0 248.518125 \nL 368.925 248.518125 \nL 368.925 0 \nL -0 0 \nz\n\" style=\"fill:none;\"/>\n  </g>\n  <g id=\"axes_1\">\n   <g id=\"patch_2\">\n    <path d=\"M 26.925 224.64 \nL 361.725 224.64 \nL 361.725 7.2 \nL 26.925 7.2 \nz\n\" style=\"fill:#ffffff;\"/>\n   </g>\n   <g id=\"matplotlib.axis_1\">\n    <g id=\"xtick_1\">\n     <g id=\"line2d_1\">\n      <defs>\n       <path d=\"M 0 0 \nL 0 3.5 \n\" id=\"m48190bb20c\" style=\"stroke:#000000;stroke-width:0.8;\"/>\n      </defs>\n      <g>\n       <use style=\"stroke:#000000;stroke-width:0.8;\" x=\"42.143182\" xlink:href=\"#m48190bb20c\" y=\"224.64\"/>\n      </g>\n     </g>\n     <g id=\"text_1\">\n      <!-- 0 -->\n      <g transform=\"translate(38.961932 239.238438)scale(0.1 -0.1)\">\n       <defs>\n        <path d=\"M 31.78125 66.40625 \nQ 24.171875 66.40625 20.328125 58.90625 \nQ 16.5 51.421875 16.5 36.375 \nQ 16.5 21.390625 20.328125 13.890625 \nQ 24.171875 6.390625 31.78125 6.390625 \nQ 39.453125 6.390625 43.28125 13.890625 \nQ 47.125 21.390625 47.125 36.375 \nQ 47.125 51.421875 43.28125 58.90625 \nQ 39.453125 66.40625 31.78125 66.40625 \nz\nM 31.78125 74.21875 \nQ 44.046875 74.21875 50.515625 64.515625 \nQ 56.984375 54.828125 56.984375 36.375 \nQ 56.984375 17.96875 50.515625 8.265625 \nQ 44.046875 -1.421875 31.78125 -1.421875 \nQ 19.53125 -1.421875 13.0625 8.265625 \nQ 6.59375 17.96875 6.59375 36.375 \nQ 6.59375 54.828125 13.0625 64.515625 \nQ 19.53125 74.21875 31.78125 74.21875 \nz\n\" id=\"DejaVuSans-48\"/>\n       </defs>\n       <use xlink:href=\"#DejaVuSans-48\"/>\n      </g>\n     </g>\n    </g>\n    <g id=\"xtick_2\">\n     <g id=\"line2d_2\">\n      <g>\n       <use style=\"stroke:#000000;stroke-width:0.8;\" x=\"103.630785\" xlink:href=\"#m48190bb20c\" y=\"224.64\"/>\n      </g>\n     </g>\n     <g id=\"text_2\">\n      <!-- 20 -->\n      <g transform=\"translate(97.268285 239.238438)scale(0.1 -0.1)\">\n       <defs>\n        <path d=\"M 19.1875 8.296875 \nL 53.609375 8.296875 \nL 53.609375 0 \nL 7.328125 0 \nL 7.328125 8.296875 \nQ 12.9375 14.109375 22.625 23.890625 \nQ 32.328125 33.6875 34.8125 36.53125 \nQ 39.546875 41.84375 41.421875 45.53125 \nQ 43.3125 49.21875 43.3125 52.78125 \nQ 43.3125 58.59375 39.234375 62.25 \nQ 35.15625 65.921875 28.609375 65.921875 \nQ 23.96875 65.921875 18.8125 64.3125 \nQ 13.671875 62.703125 7.8125 59.421875 \nL 7.8125 69.390625 \nQ 13.765625 71.78125 18.9375 73 \nQ 24.125 74.21875 28.421875 74.21875 \nQ 39.75 74.21875 46.484375 68.546875 \nQ 53.21875 62.890625 53.21875 53.421875 \nQ 53.21875 48.921875 51.53125 44.890625 \nQ 49.859375 40.875 45.40625 35.40625 \nQ 44.1875 33.984375 37.640625 27.21875 \nQ 31.109375 20.453125 19.1875 8.296875 \nz\n\" id=\"DejaVuSans-50\"/>\n       </defs>\n       <use xlink:href=\"#DejaVuSans-50\"/>\n       <use x=\"63.623047\" xlink:href=\"#DejaVuSans-48\"/>\n      </g>\n     </g>\n    </g>\n    <g id=\"xtick_3\">\n     <g id=\"line2d_3\">\n      <g>\n       <use style=\"stroke:#000000;stroke-width:0.8;\" x=\"165.118388\" xlink:href=\"#m48190bb20c\" y=\"224.64\"/>\n      </g>\n     </g>\n     <g id=\"text_3\">\n      <!-- 40 -->\n      <g transform=\"translate(158.755888 239.238438)scale(0.1 -0.1)\">\n       <defs>\n        <path d=\"M 37.796875 64.3125 \nL 12.890625 25.390625 \nL 37.796875 25.390625 \nz\nM 35.203125 72.90625 \nL 47.609375 72.90625 \nL 47.609375 25.390625 \nL 58.015625 25.390625 \nL 58.015625 17.1875 \nL 47.609375 17.1875 \nL 47.609375 0 \nL 37.796875 0 \nL 37.796875 17.1875 \nL 4.890625 17.1875 \nL 4.890625 26.703125 \nz\n\" id=\"DejaVuSans-52\"/>\n       </defs>\n       <use xlink:href=\"#DejaVuSans-52\"/>\n       <use x=\"63.623047\" xlink:href=\"#DejaVuSans-48\"/>\n      </g>\n     </g>\n    </g>\n    <g id=\"xtick_4\">\n     <g id=\"line2d_4\">\n      <g>\n       <use style=\"stroke:#000000;stroke-width:0.8;\" x=\"226.605992\" xlink:href=\"#m48190bb20c\" y=\"224.64\"/>\n      </g>\n     </g>\n     <g id=\"text_4\">\n      <!-- 60 -->\n      <g transform=\"translate(220.243492 239.238438)scale(0.1 -0.1)\">\n       <defs>\n        <path d=\"M 33.015625 40.375 \nQ 26.375 40.375 22.484375 35.828125 \nQ 18.609375 31.296875 18.609375 23.390625 \nQ 18.609375 15.53125 22.484375 10.953125 \nQ 26.375 6.390625 33.015625 6.390625 \nQ 39.65625 6.390625 43.53125 10.953125 \nQ 47.40625 15.53125 47.40625 23.390625 \nQ 47.40625 31.296875 43.53125 35.828125 \nQ 39.65625 40.375 33.015625 40.375 \nz\nM 52.59375 71.296875 \nL 52.59375 62.3125 \nQ 48.875 64.0625 45.09375 64.984375 \nQ 41.3125 65.921875 37.59375 65.921875 \nQ 27.828125 65.921875 22.671875 59.328125 \nQ 17.53125 52.734375 16.796875 39.40625 \nQ 19.671875 43.65625 24.015625 45.921875 \nQ 28.375 48.1875 33.59375 48.1875 \nQ 44.578125 48.1875 50.953125 41.515625 \nQ 57.328125 34.859375 57.328125 23.390625 \nQ 57.328125 12.15625 50.6875 5.359375 \nQ 44.046875 -1.421875 33.015625 -1.421875 \nQ 20.359375 -1.421875 13.671875 8.265625 \nQ 6.984375 17.96875 6.984375 36.375 \nQ 6.984375 53.65625 15.1875 63.9375 \nQ 23.390625 74.21875 37.203125 74.21875 \nQ 40.921875 74.21875 44.703125 73.484375 \nQ 48.484375 72.75 52.59375 71.296875 \nz\n\" id=\"DejaVuSans-54\"/>\n       </defs>\n       <use xlink:href=\"#DejaVuSans-54\"/>\n       <use x=\"63.623047\" xlink:href=\"#DejaVuSans-48\"/>\n      </g>\n     </g>\n    </g>\n    <g id=\"xtick_5\">\n     <g id=\"line2d_5\">\n      <g>\n       <use style=\"stroke:#000000;stroke-width:0.8;\" x=\"288.093595\" xlink:href=\"#m48190bb20c\" y=\"224.64\"/>\n      </g>\n     </g>\n     <g id=\"text_5\">\n      <!-- 80 -->\n      <g transform=\"translate(281.731095 239.238438)scale(0.1 -0.1)\">\n       <defs>\n        <path d=\"M 31.78125 34.625 \nQ 24.75 34.625 20.71875 30.859375 \nQ 16.703125 27.09375 16.703125 20.515625 \nQ 16.703125 13.921875 20.71875 10.15625 \nQ 24.75 6.390625 31.78125 6.390625 \nQ 38.8125 6.390625 42.859375 10.171875 \nQ 46.921875 13.96875 46.921875 20.515625 \nQ 46.921875 27.09375 42.890625 30.859375 \nQ 38.875 34.625 31.78125 34.625 \nz\nM 21.921875 38.8125 \nQ 15.578125 40.375 12.03125 44.71875 \nQ 8.5 49.078125 8.5 55.328125 \nQ 8.5 64.0625 14.71875 69.140625 \nQ 20.953125 74.21875 31.78125 74.21875 \nQ 42.671875 74.21875 48.875 69.140625 \nQ 55.078125 64.0625 55.078125 55.328125 \nQ 55.078125 49.078125 51.53125 44.71875 \nQ 48 40.375 41.703125 38.8125 \nQ 48.828125 37.15625 52.796875 32.3125 \nQ 56.78125 27.484375 56.78125 20.515625 \nQ 56.78125 9.90625 50.3125 4.234375 \nQ 43.84375 -1.421875 31.78125 -1.421875 \nQ 19.734375 -1.421875 13.25 4.234375 \nQ 6.78125 9.90625 6.78125 20.515625 \nQ 6.78125 27.484375 10.78125 32.3125 \nQ 14.796875 37.15625 21.921875 38.8125 \nz\nM 18.3125 54.390625 \nQ 18.3125 48.734375 21.84375 45.5625 \nQ 25.390625 42.390625 31.78125 42.390625 \nQ 38.140625 42.390625 41.71875 45.5625 \nQ 45.3125 48.734375 45.3125 54.390625 \nQ 45.3125 60.0625 41.71875 63.234375 \nQ 38.140625 66.40625 31.78125 66.40625 \nQ 25.390625 66.40625 21.84375 63.234375 \nQ 18.3125 60.0625 18.3125 54.390625 \nz\n\" id=\"DejaVuSans-56\"/>\n       </defs>\n       <use xlink:href=\"#DejaVuSans-56\"/>\n       <use x=\"63.623047\" xlink:href=\"#DejaVuSans-48\"/>\n      </g>\n     </g>\n    </g>\n    <g id=\"xtick_6\">\n     <g id=\"line2d_6\">\n      <g>\n       <use style=\"stroke:#000000;stroke-width:0.8;\" x=\"349.581198\" xlink:href=\"#m48190bb20c\" y=\"224.64\"/>\n      </g>\n     </g>\n     <g id=\"text_6\">\n      <!-- 100 -->\n      <g transform=\"translate(340.037448 239.238438)scale(0.1 -0.1)\">\n       <defs>\n        <path d=\"M 12.40625 8.296875 \nL 28.515625 8.296875 \nL 28.515625 63.921875 \nL 10.984375 60.40625 \nL 10.984375 69.390625 \nL 28.421875 72.90625 \nL 38.28125 72.90625 \nL 38.28125 8.296875 \nL 54.390625 8.296875 \nL 54.390625 0 \nL 12.40625 0 \nz\n\" id=\"DejaVuSans-49\"/>\n       </defs>\n       <use xlink:href=\"#DejaVuSans-49\"/>\n       <use x=\"63.623047\" xlink:href=\"#DejaVuSans-48\"/>\n       <use x=\"127.246094\" xlink:href=\"#DejaVuSans-48\"/>\n      </g>\n     </g>\n    </g>\n   </g>\n   <g id=\"matplotlib.axis_2\">\n    <g id=\"ytick_1\">\n     <g id=\"line2d_7\">\n      <defs>\n       <path d=\"M 0 0 \nL -3.5 0 \n\" id=\"me8013cb752\" style=\"stroke:#000000;stroke-width:0.8;\"/>\n      </defs>\n      <g>\n       <use style=\"stroke:#000000;stroke-width:0.8;\" x=\"26.925\" xlink:href=\"#me8013cb752\" y=\"190.199335\"/>\n      </g>\n     </g>\n     <g id=\"text_7\">\n      <!-- 0 -->\n      <g transform=\"translate(13.5625 193.998554)scale(0.1 -0.1)\">\n       <use xlink:href=\"#DejaVuSans-48\"/>\n      </g>\n     </g>\n    </g>\n    <g id=\"ytick_2\">\n     <g id=\"line2d_8\">\n      <g>\n       <use style=\"stroke:#000000;stroke-width:0.8;\" x=\"26.925\" xlink:href=\"#me8013cb752\" y=\"155.576195\"/>\n      </g>\n     </g>\n     <g id=\"text_8\">\n      <!-- 2 -->\n      <g transform=\"translate(13.5625 159.375414)scale(0.1 -0.1)\">\n       <use xlink:href=\"#DejaVuSans-50\"/>\n      </g>\n     </g>\n    </g>\n    <g id=\"ytick_3\">\n     <g id=\"line2d_9\">\n      <g>\n       <use style=\"stroke:#000000;stroke-width:0.8;\" x=\"26.925\" xlink:href=\"#me8013cb752\" y=\"120.953056\"/>\n      </g>\n     </g>\n     <g id=\"text_9\">\n      <!-- 4 -->\n      <g transform=\"translate(13.5625 124.752274)scale(0.1 -0.1)\">\n       <use xlink:href=\"#DejaVuSans-52\"/>\n      </g>\n     </g>\n    </g>\n    <g id=\"ytick_4\">\n     <g id=\"line2d_10\">\n      <g>\n       <use style=\"stroke:#000000;stroke-width:0.8;\" x=\"26.925\" xlink:href=\"#me8013cb752\" y=\"86.329916\"/>\n      </g>\n     </g>\n     <g id=\"text_10\">\n      <!-- 6 -->\n      <g transform=\"translate(13.5625 90.129135)scale(0.1 -0.1)\">\n       <use xlink:href=\"#DejaVuSans-54\"/>\n      </g>\n     </g>\n    </g>\n    <g id=\"ytick_5\">\n     <g id=\"line2d_11\">\n      <g>\n       <use style=\"stroke:#000000;stroke-width:0.8;\" x=\"26.925\" xlink:href=\"#me8013cb752\" y=\"51.706776\"/>\n      </g>\n     </g>\n     <g id=\"text_11\">\n      <!-- 8 -->\n      <g transform=\"translate(13.5625 55.505995)scale(0.1 -0.1)\">\n       <use xlink:href=\"#DejaVuSans-56\"/>\n      </g>\n     </g>\n    </g>\n    <g id=\"ytick_6\">\n     <g id=\"line2d_12\">\n      <g>\n       <use style=\"stroke:#000000;stroke-width:0.8;\" x=\"26.925\" xlink:href=\"#me8013cb752\" y=\"17.083636\"/>\n      </g>\n     </g>\n     <g id=\"text_12\">\n      <!-- 10 -->\n      <g transform=\"translate(7.2 20.882855)scale(0.1 -0.1)\">\n       <use xlink:href=\"#DejaVuSans-49\"/>\n       <use x=\"63.623047\" xlink:href=\"#DejaVuSans-48\"/>\n      </g>\n     </g>\n    </g>\n   </g>\n   <g id=\"line2d_13\">\n    <path clip-path=\"url(#p454e77c37e)\" d=\"M 42.143182 17.083636 \nL 45.217562 198.335778 \nL 48.291942 191.392098 \nL 51.366322 188.021641 \nL 54.440702 184.914306 \nL 57.515083 182.096536 \nL 60.589463 179.540556 \nL 63.663843 177.22206 \nL 66.738223 175.11898 \nL 69.812603 173.211302 \nL 72.886983 171.480871 \nL 75.961364 169.911219 \nL 79.035744 168.487406 \nL 82.110124 167.195883 \nL 85.184504 166.024359 \nL 88.258884 164.961684 \nL 91.333264 163.997744 \nL 94.407645 163.123367 \nL 97.482025 162.330229 \nL 100.556405 161.610784 \nL 103.630785 160.958185 \nL 106.705165 160.36622 \nL 109.779545 159.829254 \nL 112.853926 159.34218 \nL 115.928306 158.900364 \nL 119.002686 158.499594 \nL 122.077066 158.136062 \nL 125.151446 157.806308 \nL 128.225826 157.507191 \nL 131.300207 157.235866 \nL 134.374587 156.989749 \nL 137.448967 156.7665 \nL 140.523347 156.563996 \nL 143.597727 156.380304 \nL 146.672107 156.213681 \nL 149.746488 156.062539 \nL 152.820868 155.925439 \nL 155.895248 155.801077 \nL 158.969628 155.688271 \nL 162.044008 155.585946 \nL 165.118388 155.493127 \nL 168.192769 155.408937 \nL 171.267149 155.332563 \nL 174.341529 155.263289 \nL 177.415909 155.200449 \nL 180.490289 155.14345 \nL 183.564669 155.091742 \nL 186.63905 155.044842 \nL 189.71343 155.002301 \nL 192.78781 154.96371 \nL 195.86219 154.928705 \nL 198.93657 154.896953 \nL 202.01095 154.868152 \nL 205.085331 154.842026 \nL 208.159711 154.818326 \nL 211.234091 154.796831 \nL 214.308471 154.777329 \nL 217.382851 154.759643 \nL 220.457231 154.7436 \nL 223.531612 154.729047 \nL 226.605992 154.715843 \nL 229.680372 154.703869 \nL 232.754752 154.693006 \nL 235.829132 154.683154 \nL 238.903512 154.674218 \nL 241.977893 154.666108 \nL 245.052273 154.658757 \nL 248.126653 154.652087 \nL 251.201033 154.646036 \nL 254.275413 154.640547 \nL 257.349793 154.635569 \nL 260.424174 154.631054 \nL 263.498554 154.626955 \nL 266.572934 154.623241 \nL 269.647314 154.619869 \nL 272.721694 154.61681 \nL 275.796074 154.614037 \nL 278.870455 154.611523 \nL 281.944835 154.609241 \nL 285.019215 154.607173 \nL 288.093595 154.605295 \nL 291.167975 154.60359 \nL 294.242355 154.602046 \nL 297.316736 154.600643 \nL 300.391116 154.599372 \nL 303.465496 154.59822 \nL 306.539876 154.597176 \nL 309.614256 154.596227 \nL 312.688636 154.595364 \nL 315.763017 154.594584 \nL 318.837397 154.593878 \nL 321.911777 154.593234 \nL 324.986157 154.592653 \nL 328.060537 154.592124 \nL 331.134917 154.591645 \nL 334.209298 154.591208 \nL 337.283678 154.590816 \nL 340.358058 154.590457 \nL 343.432438 154.590135 \nL 346.506818 154.589838 \n\" style=\"fill:none;stroke:#ff0000;stroke-linecap:square;stroke-width:1.5;\"/>\n   </g>\n   <g id=\"line2d_14\">\n    <path clip-path=\"url(#p454e77c37e)\" d=\"M 42.143182 17.083636 \nL 45.217562 89.792243 \nL 48.291942 100.475209 \nL 51.366322 111.110032 \nL 54.440702 120.74061 \nL 57.515083 129.476669 \nL 60.589463 137.401033 \nL 63.663843 144.589127 \nL 66.738223 151.109358 \nL 69.812603 157.023778 \nL 72.886983 162.388675 \nL 75.961364 167.255109 \nL 79.035744 171.66939 \nL 82.110124 175.67353 \nL 85.184504 179.305637 \nL 88.258884 182.600276 \nL 91.333264 185.588801 \nL 94.407645 188.299656 \nL 97.482025 190.758639 \nL 100.556405 192.989152 \nL 103.630785 195.012423 \nL 106.705165 196.847708 \nL 109.779545 198.512471 \nL 112.853926 200.022557 \nL 115.928306 201.392338 \nL 119.002686 202.634848 \nL 122.077066 203.761915 \nL 125.151446 204.784264 \nL 128.225826 205.711624 \nL 131.300207 206.55282 \nL 134.374587 207.315859 \nL 137.448967 208.008001 \nL 140.523347 208.635836 \nL 143.597727 209.205337 \nL 146.672107 209.721924 \nL 149.746488 210.190514 \nL 152.820868 210.615566 \nL 155.895248 211.001125 \nL 158.969628 211.350862 \nL 162.044008 211.668105 \nL 165.118388 211.955869 \nL 168.192769 212.216898 \nL 171.267149 212.453673 \nL 174.341529 212.66845 \nL 177.415909 212.863272 \nL 180.490289 213.039993 \nL 183.564669 213.200293 \nL 186.63905 213.345699 \nL 189.71343 213.477596 \nL 192.78781 213.597237 \nL 195.86219 213.705763 \nL 198.93657 213.804206 \nL 202.01095 213.893502 \nL 205.085331 213.9745 \nL 208.159711 214.047974 \nL 211.234091 214.114621 \nL 214.308471 214.175075 \nL 217.382851 214.229914 \nL 220.457231 214.279655 \nL 223.531612 214.324776 \nL 226.605992 214.365703 \nL 229.680372 214.402829 \nL 232.754752 214.436505 \nL 235.829132 214.467051 \nL 238.903512 214.494761 \nL 241.977893 214.519895 \nL 245.052273 214.542694 \nL 248.126653 214.563375 \nL 251.201033 214.582134 \nL 254.275413 214.599151 \nL 257.349793 214.614585 \nL 260.424174 214.628586 \nL 263.498554 214.641286 \nL 266.572934 214.652807 \nL 269.647314 214.663256 \nL 272.721694 214.672734 \nL 275.796074 214.681334 \nL 278.870455 214.689132 \nL 281.944835 214.696207 \nL 285.019215 214.702625 \nL 288.093595 214.708445 \nL 291.167975 214.713726 \nL 294.242355 214.718515 \nL 297.316736 214.722859 \nL 300.391116 214.726801 \nL 303.465496 214.730375 \nL 306.539876 214.733618 \nL 309.614256 214.736558 \nL 312.688636 214.739227 \nL 315.763017 214.741647 \nL 318.837397 214.743843 \nL 321.911777 214.745835 \nL 324.986157 214.74764 \nL 328.060537 214.749279 \nL 331.134917 214.750765 \nL 334.209298 214.752112 \nL 337.283678 214.753336 \nL 340.358058 214.754444 \nL 343.432438 214.755451 \nL 346.506818 214.756364 \n\" style=\"fill:none;stroke:#0000ff;stroke-linecap:square;stroke-width:1.5;\"/>\n   </g>\n   <g id=\"line2d_15\">\n    <path clip-path=\"url(#p454e77c37e)\" d=\"M 42.143182 155.576195 \nL 45.217562 155.576195 \nL 48.291942 155.576195 \nL 51.366322 155.576195 \nL 54.440702 155.576195 \nL 57.515083 155.576195 \nL 60.589463 155.576195 \nL 63.663843 155.576195 \nL 66.738223 155.576195 \nL 69.812603 155.576195 \nL 72.886983 155.576195 \nL 75.961364 155.576195 \nL 79.035744 155.576195 \nL 82.110124 155.576195 \nL 85.184504 155.576195 \nL 88.258884 155.576195 \nL 91.333264 155.576195 \nL 94.407645 155.576195 \nL 97.482025 155.576195 \nL 100.556405 155.576195 \nL 103.630785 155.576195 \nL 106.705165 155.576195 \nL 109.779545 155.576195 \nL 112.853926 155.576195 \nL 115.928306 155.576195 \nL 119.002686 155.576195 \nL 122.077066 155.576195 \nL 125.151446 155.576195 \nL 128.225826 155.576195 \nL 131.300207 155.576195 \nL 134.374587 155.576195 \nL 137.448967 155.576195 \nL 140.523347 155.576195 \nL 143.597727 155.576195 \nL 146.672107 155.576195 \nL 149.746488 155.576195 \nL 152.820868 155.576195 \nL 155.895248 155.576195 \nL 158.969628 155.576195 \nL 162.044008 155.576195 \nL 165.118388 155.576195 \nL 168.192769 155.576195 \nL 171.267149 155.576195 \nL 174.341529 155.576195 \nL 177.415909 155.576195 \nL 180.490289 155.576195 \nL 183.564669 155.576195 \nL 186.63905 155.576195 \nL 189.71343 155.576195 \nL 192.78781 155.576195 \nL 195.86219 155.576195 \nL 198.93657 155.576195 \nL 202.01095 155.576195 \nL 205.085331 155.576195 \nL 208.159711 155.576195 \nL 211.234091 155.576195 \nL 214.308471 155.576195 \nL 217.382851 155.576195 \nL 220.457231 155.576195 \nL 223.531612 155.576195 \nL 226.605992 155.576195 \nL 229.680372 155.576195 \nL 232.754752 155.576195 \nL 235.829132 155.576195 \nL 238.903512 155.576195 \nL 241.977893 155.576195 \nL 245.052273 155.576195 \nL 248.126653 155.576195 \nL 251.201033 155.576195 \nL 254.275413 155.576195 \nL 257.349793 155.576195 \nL 260.424174 155.576195 \nL 263.498554 155.576195 \nL 266.572934 155.576195 \nL 269.647314 155.576195 \nL 272.721694 155.576195 \nL 275.796074 155.576195 \nL 278.870455 155.576195 \nL 281.944835 155.576195 \nL 285.019215 155.576195 \nL 288.093595 155.576195 \nL 291.167975 155.576195 \nL 294.242355 155.576195 \nL 297.316736 155.576195 \nL 300.391116 155.576195 \nL 303.465496 155.576195 \nL 306.539876 155.576195 \nL 309.614256 155.576195 \nL 312.688636 155.576195 \nL 315.763017 155.576195 \nL 318.837397 155.576195 \nL 321.911777 155.576195 \nL 324.986157 155.576195 \nL 328.060537 155.576195 \nL 331.134917 155.576195 \nL 334.209298 155.576195 \nL 337.283678 155.576195 \nL 340.358058 155.576195 \nL 343.432438 155.576195 \nL 346.506818 155.576195 \n\" style=\"fill:none;stroke:#ff0000;stroke-dasharray:5.55,2.4;stroke-dashoffset:0;stroke-width:1.5;\"/>\n   </g>\n   <g id=\"line2d_16\">\n    <path clip-path=\"url(#p454e77c37e)\" d=\"M 42.143182 207.510905 \nL 45.217562 207.510905 \nL 48.291942 207.510905 \nL 51.366322 207.510905 \nL 54.440702 207.510905 \nL 57.515083 207.510905 \nL 60.589463 207.510905 \nL 63.663843 207.510905 \nL 66.738223 207.510905 \nL 69.812603 207.510905 \nL 72.886983 207.510905 \nL 75.961364 207.510905 \nL 79.035744 207.510905 \nL 82.110124 207.510905 \nL 85.184504 207.510905 \nL 88.258884 207.510905 \nL 91.333264 207.510905 \nL 94.407645 207.510905 \nL 97.482025 207.510905 \nL 100.556405 207.510905 \nL 103.630785 207.510905 \nL 106.705165 207.510905 \nL 109.779545 207.510905 \nL 112.853926 207.510905 \nL 115.928306 207.510905 \nL 119.002686 207.510905 \nL 122.077066 207.510905 \nL 125.151446 207.510905 \nL 128.225826 207.510905 \nL 131.300207 207.510905 \nL 134.374587 207.510905 \nL 137.448967 207.510905 \nL 140.523347 207.510905 \nL 143.597727 207.510905 \nL 146.672107 207.510905 \nL 149.746488 207.510905 \nL 152.820868 207.510905 \nL 155.895248 207.510905 \nL 158.969628 207.510905 \nL 162.044008 207.510905 \nL 165.118388 207.510905 \nL 168.192769 207.510905 \nL 171.267149 207.510905 \nL 174.341529 207.510905 \nL 177.415909 207.510905 \nL 180.490289 207.510905 \nL 183.564669 207.510905 \nL 186.63905 207.510905 \nL 189.71343 207.510905 \nL 192.78781 207.510905 \nL 195.86219 207.510905 \nL 198.93657 207.510905 \nL 202.01095 207.510905 \nL 205.085331 207.510905 \nL 208.159711 207.510905 \nL 211.234091 207.510905 \nL 214.308471 207.510905 \nL 217.382851 207.510905 \nL 220.457231 207.510905 \nL 223.531612 207.510905 \nL 226.605992 207.510905 \nL 229.680372 207.510905 \nL 232.754752 207.510905 \nL 235.829132 207.510905 \nL 238.903512 207.510905 \nL 241.977893 207.510905 \nL 245.052273 207.510905 \nL 248.126653 207.510905 \nL 251.201033 207.510905 \nL 254.275413 207.510905 \nL 257.349793 207.510905 \nL 260.424174 207.510905 \nL 263.498554 207.510905 \nL 266.572934 207.510905 \nL 269.647314 207.510905 \nL 272.721694 207.510905 \nL 275.796074 207.510905 \nL 278.870455 207.510905 \nL 281.944835 207.510905 \nL 285.019215 207.510905 \nL 288.093595 207.510905 \nL 291.167975 207.510905 \nL 294.242355 207.510905 \nL 297.316736 207.510905 \nL 300.391116 207.510905 \nL 303.465496 207.510905 \nL 306.539876 207.510905 \nL 309.614256 207.510905 \nL 312.688636 207.510905 \nL 315.763017 207.510905 \nL 318.837397 207.510905 \nL 321.911777 207.510905 \nL 324.986157 207.510905 \nL 328.060537 207.510905 \nL 331.134917 207.510905 \nL 334.209298 207.510905 \nL 337.283678 207.510905 \nL 340.358058 207.510905 \nL 343.432438 207.510905 \nL 346.506818 207.510905 \n\" style=\"fill:none;stroke:#0000ff;stroke-dasharray:5.55,2.4;stroke-dashoffset:0;stroke-width:1.5;\"/>\n   </g>\n   <g id=\"patch_3\">\n    <path d=\"M 26.925 224.64 \nL 26.925 7.2 \n\" style=\"fill:none;stroke:#000000;stroke-linecap:square;stroke-linejoin:miter;stroke-width:0.8;\"/>\n   </g>\n   <g id=\"patch_4\">\n    <path d=\"M 361.725 224.64 \nL 361.725 7.2 \n\" style=\"fill:none;stroke:#000000;stroke-linecap:square;stroke-linejoin:miter;stroke-width:0.8;\"/>\n   </g>\n   <g id=\"patch_5\">\n    <path d=\"M 26.925 224.64 \nL 361.725 224.64 \n\" style=\"fill:none;stroke:#000000;stroke-linecap:square;stroke-linejoin:miter;stroke-width:0.8;\"/>\n   </g>\n   <g id=\"patch_6\">\n    <path d=\"M 26.925 7.2 \nL 361.725 7.2 \n\" style=\"fill:none;stroke:#000000;stroke-linecap:square;stroke-linejoin:miter;stroke-width:0.8;\"/>\n   </g>\n   <g id=\"legend_1\">\n    <g id=\"patch_7\">\n     <path d=\"M 288.425 73.9125 \nL 354.725 73.9125 \nQ 356.725 73.9125 356.725 71.9125 \nL 356.725 14.2 \nQ 356.725 12.2 354.725 12.2 \nL 288.425 12.2 \nQ 286.425 12.2 286.425 14.2 \nL 286.425 71.9125 \nQ 286.425 73.9125 288.425 73.9125 \nz\n\" style=\"fill:#ffffff;opacity:0.8;stroke:#cccccc;stroke-linejoin:miter;\"/>\n    </g>\n    <g id=\"line2d_17\">\n     <path d=\"M 290.425 20.298437 \nL 310.425 20.298437 \n\" style=\"fill:none;stroke:#ff0000;stroke-linecap:square;stroke-width:1.5;\"/>\n    </g>\n    <g id=\"line2d_18\"/>\n    <g id=\"text_13\">\n     <!-- w -->\n     <g transform=\"translate(318.425 23.798437)scale(0.1 -0.1)\">\n      <defs>\n       <path d=\"M 4.203125 54.6875 \nL 13.1875 54.6875 \nL 24.421875 12.015625 \nL 35.59375 54.6875 \nL 46.1875 54.6875 \nL 57.421875 12.015625 \nL 68.609375 54.6875 \nL 77.59375 54.6875 \nL 63.28125 0 \nL 52.6875 0 \nL 40.921875 44.828125 \nL 29.109375 0 \nL 18.5 0 \nz\n\" id=\"DejaVuSans-119\"/>\n      </defs>\n      <use xlink:href=\"#DejaVuSans-119\"/>\n     </g>\n    </g>\n    <g id=\"line2d_19\">\n     <path d=\"M 290.425 34.976562 \nL 310.425 34.976562 \n\" style=\"fill:none;stroke:#0000ff;stroke-linecap:square;stroke-width:1.5;\"/>\n    </g>\n    <g id=\"line2d_20\"/>\n    <g id=\"text_14\">\n     <!-- b -->\n     <g transform=\"translate(318.425 38.476562)scale(0.1 -0.1)\">\n      <defs>\n       <path d=\"M 48.6875 27.296875 \nQ 48.6875 37.203125 44.609375 42.84375 \nQ 40.53125 48.484375 33.40625 48.484375 \nQ 26.265625 48.484375 22.1875 42.84375 \nQ 18.109375 37.203125 18.109375 27.296875 \nQ 18.109375 17.390625 22.1875 11.75 \nQ 26.265625 6.109375 33.40625 6.109375 \nQ 40.53125 6.109375 44.609375 11.75 \nQ 48.6875 17.390625 48.6875 27.296875 \nz\nM 18.109375 46.390625 \nQ 20.953125 51.265625 25.265625 53.625 \nQ 29.59375 56 35.59375 56 \nQ 45.5625 56 51.78125 48.09375 \nQ 58.015625 40.1875 58.015625 27.296875 \nQ 58.015625 14.40625 51.78125 6.484375 \nQ 45.5625 -1.421875 35.59375 -1.421875 \nQ 29.59375 -1.421875 25.265625 0.953125 \nQ 20.953125 3.328125 18.109375 8.203125 \nL 18.109375 0 \nL 9.078125 0 \nL 9.078125 75.984375 \nL 18.109375 75.984375 \nz\n\" id=\"DejaVuSans-98\"/>\n      </defs>\n      <use xlink:href=\"#DejaVuSans-98\"/>\n     </g>\n    </g>\n    <g id=\"line2d_21\">\n     <path d=\"M 290.425 49.654687 \nL 310.425 49.654687 \n\" style=\"fill:none;stroke:#ff0000;stroke-dasharray:5.55,2.4;stroke-dashoffset:0;stroke-width:1.5;\"/>\n    </g>\n    <g id=\"line2d_22\"/>\n    <g id=\"text_15\">\n     <!-- True W -->\n     <g transform=\"translate(318.425 53.154687)scale(0.1 -0.1)\">\n      <defs>\n       <path d=\"M -0.296875 72.90625 \nL 61.375 72.90625 \nL 61.375 64.59375 \nL 35.5 64.59375 \nL 35.5 0 \nL 25.59375 0 \nL 25.59375 64.59375 \nL -0.296875 64.59375 \nz\n\" id=\"DejaVuSans-84\"/>\n       <path d=\"M 41.109375 46.296875 \nQ 39.59375 47.171875 37.8125 47.578125 \nQ 36.03125 48 33.890625 48 \nQ 26.265625 48 22.1875 43.046875 \nQ 18.109375 38.09375 18.109375 28.8125 \nL 18.109375 0 \nL 9.078125 0 \nL 9.078125 54.6875 \nL 18.109375 54.6875 \nL 18.109375 46.1875 \nQ 20.953125 51.171875 25.484375 53.578125 \nQ 30.03125 56 36.53125 56 \nQ 37.453125 56 38.578125 55.875 \nQ 39.703125 55.765625 41.0625 55.515625 \nz\n\" id=\"DejaVuSans-114\"/>\n       <path d=\"M 8.5 21.578125 \nL 8.5 54.6875 \nL 17.484375 54.6875 \nL 17.484375 21.921875 \nQ 17.484375 14.15625 20.5 10.265625 \nQ 23.53125 6.390625 29.59375 6.390625 \nQ 36.859375 6.390625 41.078125 11.03125 \nQ 45.3125 15.671875 45.3125 23.6875 \nL 45.3125 54.6875 \nL 54.296875 54.6875 \nL 54.296875 0 \nL 45.3125 0 \nL 45.3125 8.40625 \nQ 42.046875 3.421875 37.71875 1 \nQ 33.40625 -1.421875 27.6875 -1.421875 \nQ 18.265625 -1.421875 13.375 4.4375 \nQ 8.5 10.296875 8.5 21.578125 \nz\nM 31.109375 56 \nz\n\" id=\"DejaVuSans-117\"/>\n       <path d=\"M 56.203125 29.59375 \nL 56.203125 25.203125 \nL 14.890625 25.203125 \nQ 15.484375 15.921875 20.484375 11.0625 \nQ 25.484375 6.203125 34.421875 6.203125 \nQ 39.59375 6.203125 44.453125 7.46875 \nQ 49.3125 8.734375 54.109375 11.28125 \nL 54.109375 2.78125 \nQ 49.265625 0.734375 44.1875 -0.34375 \nQ 39.109375 -1.421875 33.890625 -1.421875 \nQ 20.796875 -1.421875 13.15625 6.1875 \nQ 5.515625 13.8125 5.515625 26.8125 \nQ 5.515625 40.234375 12.765625 48.109375 \nQ 20.015625 56 32.328125 56 \nQ 43.359375 56 49.78125 48.890625 \nQ 56.203125 41.796875 56.203125 29.59375 \nz\nM 47.21875 32.234375 \nQ 47.125 39.59375 43.09375 43.984375 \nQ 39.0625 48.390625 32.421875 48.390625 \nQ 24.90625 48.390625 20.390625 44.140625 \nQ 15.875 39.890625 15.1875 32.171875 \nz\n\" id=\"DejaVuSans-101\"/>\n       <path id=\"DejaVuSans-32\"/>\n       <path d=\"M 3.328125 72.90625 \nL 13.28125 72.90625 \nL 28.609375 11.28125 \nL 43.890625 72.90625 \nL 54.984375 72.90625 \nL 70.3125 11.28125 \nL 85.59375 72.90625 \nL 95.609375 72.90625 \nL 77.296875 0 \nL 64.890625 0 \nL 49.515625 63.28125 \nL 33.984375 0 \nL 21.578125 0 \nz\n\" id=\"DejaVuSans-87\"/>\n      </defs>\n      <use xlink:href=\"#DejaVuSans-84\"/>\n      <use x=\"46.333984\" xlink:href=\"#DejaVuSans-114\"/>\n      <use x=\"87.447266\" xlink:href=\"#DejaVuSans-117\"/>\n      <use x=\"150.826172\" xlink:href=\"#DejaVuSans-101\"/>\n      <use x=\"212.349609\" xlink:href=\"#DejaVuSans-32\"/>\n      <use x=\"244.136719\" xlink:href=\"#DejaVuSans-87\"/>\n     </g>\n    </g>\n    <g id=\"line2d_23\">\n     <path d=\"M 290.425 64.332812 \nL 310.425 64.332812 \n\" style=\"fill:none;stroke:#0000ff;stroke-dasharray:5.55,2.4;stroke-dashoffset:0;stroke-width:1.5;\"/>\n    </g>\n    <g id=\"line2d_24\"/>\n    <g id=\"text_16\">\n     <!-- True B -->\n     <g transform=\"translate(318.425 67.832812)scale(0.1 -0.1)\">\n      <defs>\n       <path d=\"M 19.671875 34.8125 \nL 19.671875 8.109375 \nL 35.5 8.109375 \nQ 43.453125 8.109375 47.28125 11.40625 \nQ 51.125 14.703125 51.125 21.484375 \nQ 51.125 28.328125 47.28125 31.5625 \nQ 43.453125 34.8125 35.5 34.8125 \nz\nM 19.671875 64.796875 \nL 19.671875 42.828125 \nL 34.28125 42.828125 \nQ 41.5 42.828125 45.03125 45.53125 \nQ 48.578125 48.25 48.578125 53.8125 \nQ 48.578125 59.328125 45.03125 62.0625 \nQ 41.5 64.796875 34.28125 64.796875 \nz\nM 9.8125 72.90625 \nL 35.015625 72.90625 \nQ 46.296875 72.90625 52.390625 68.21875 \nQ 58.5 63.53125 58.5 54.890625 \nQ 58.5 48.1875 55.375 44.234375 \nQ 52.25 40.28125 46.1875 39.3125 \nQ 53.46875 37.75 57.5 32.78125 \nQ 61.53125 27.828125 61.53125 20.40625 \nQ 61.53125 10.640625 54.890625 5.3125 \nQ 48.25 0 35.984375 0 \nL 9.8125 0 \nz\n\" id=\"DejaVuSans-66\"/>\n      </defs>\n      <use xlink:href=\"#DejaVuSans-84\"/>\n      <use x=\"46.333984\" xlink:href=\"#DejaVuSans-114\"/>\n      <use x=\"87.447266\" xlink:href=\"#DejaVuSans-117\"/>\n      <use x=\"150.826172\" xlink:href=\"#DejaVuSans-101\"/>\n      <use x=\"212.349609\" xlink:href=\"#DejaVuSans-32\"/>\n      <use x=\"244.136719\" xlink:href=\"#DejaVuSans-66\"/>\n     </g>\n    </g>\n   </g>\n  </g>\n </g>\n <defs>\n  <clipPath id=\"p454e77c37e\">\n   <rect height=\"217.44\" width=\"334.8\" x=\"26.925\" y=\"7.2\"/>\n  </clipPath>\n </defs>\n</svg>\n",
      "image/png": "[encoded data removed]"
     },
     "metadata": {
      "needs_background": "light"
     }
    }
   ],
   "source": [
    "plt.plot(epochs, list_w, 'r', epochs, list_b, 'b')\n",
    "plt.plot([TRUE_W] * len(epochs), '--r', [TRUE_B] * len(epochs), '--b')\n",
    "plt.legend(['w', 'b', 'True W', 'True B'])\n",
    "plt.show()"
   ]
  },
  {
   "cell_type": "code",
   "execution_count": null,
   "metadata": {},
   "outputs": [],
   "source": []
  }
 ]
}