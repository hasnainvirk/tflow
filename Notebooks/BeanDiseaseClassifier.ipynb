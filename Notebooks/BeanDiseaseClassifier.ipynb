{
 "metadata": {
  "language_info": {
   "codemirror_mode": {
    "name": "ipython",
    "version": 3
   },
   "file_extension": ".py",
   "mimetype": "text/x-python",
   "name": "python",
   "nbconvert_exporter": "python",
   "pygments_lexer": "ipython3",
   "version": "3.8.5-final"
  },
  "orig_nbformat": 2,
  "kernelspec": {
   "name": "python38564bittflowvirtualenvwrapperff4a3ff39ecc4e298fd2c21fd802ff24",
   "display_name": "Python 3.8.5 64-bit ('tflow': virtualenvwrapper)",
   "language": "python"
  }
 },
 "nbformat": 4,
 "nbformat_minor": 2,
 "cells": [
  {
   "source": [
    "# Bean Disease Classifier\n",
    "We are going to build a model that is trained with healthy plant images and 2 types of diseased bean plant images (bean rust & angular leaf spots). Every image is 224x224 pixels color image taken from bean plants in Uganda.  \n",
    "\n",
    "## Get the dataset\n",
    "Thanks to awesome Mr. Moroney we can download the data set from here.\n"
   ],
   "cell_type": "markdown",
   "metadata": {}
  },
  {
   "cell_type": "code",
   "execution_count": 1,
   "metadata": {},
   "outputs": [
    {
     "output_type": "stream",
     "name": "stdout",
     "text": [
      "--2021-03-04 21:18:23--  https://storage.googleapis.com/ibeans/train.zip\n",
      "Resolving storage.googleapis.com (storage.googleapis.com)... 172.217.22.176, 142.250.74.48, 172.217.21.176, ...\n",
      "Connecting to storage.googleapis.com (storage.googleapis.com)|172.217.22.176|:443... connected.\n",
      "HTTP request sent, awaiting response... 200 OK\n",
      "Length: 143812152 (137M) [application/zip]\n",
      "Saving to: ‘/tmp/train.zip’\n",
      "\n",
      "/tmp/train.zip      100%[===================>] 137.15M  20.1MB/s    in 7.0s    \n",
      "\n",
      "2021-03-04 21:18:33 (19.6 MB/s) - ‘/tmp/train.zip’ saved [143812152/143812152]\n",
      "\n",
      "--2021-03-04 21:18:33--  https://storage.googleapis.com/ibeans/validation.zip\n",
      "Resolving storage.googleapis.com (storage.googleapis.com)... 216.58.207.240, 216.58.207.208, 216.58.211.144, ...\n",
      "Connecting to storage.googleapis.com (storage.googleapis.com)|216.58.207.240|:443... connected.\n",
      "HTTP request sent, awaiting response... 200 OK\n",
      "Length: 18504213 (18M) [application/zip]\n",
      "Saving to: ‘/tmp/validation.zip’\n",
      "\n",
      "/tmp/validation.zip 100%[===================>]  17.65M  15.2MB/s    in 1.2s    \n",
      "\n",
      "2021-03-04 21:18:35 (15.2 MB/s) - ‘/tmp/validation.zip’ saved [18504213/18504213]\n",
      "\n",
      "--2021-03-04 21:18:35--  https://storage.googleapis.com/ibeans/test.zip\n",
      "Resolving storage.googleapis.com (storage.googleapis.com)... 142.250.74.48, 216.58.211.16, 216.58.211.144, ...\n",
      "Connecting to storage.googleapis.com (storage.googleapis.com)|142.250.74.48|:443... connected.\n",
      "HTTP request sent, awaiting response... 200 OK\n",
      "Length: 17708541 (17M) [application/zip]\n",
      "Saving to: ‘/tmp/test.zip’\n",
      "\n",
      "/tmp/test.zip       100%[===================>]  16.89M  41.1MB/s    in 0.4s    \n",
      "\n",
      "2021-03-04 21:18:36 (41.1 MB/s) - ‘/tmp/test.zip’ saved [17708541/17708541]\n",
      "\n"
     ]
    }
   ],
   "source": [
    "# Do not change this code\n",
    "!wget --no-check-certificate \\\n",
    "    https://storage.googleapis.com/ibeans/train.zip \\\n",
    "    -O /tmp/train.zip\n",
    "\n",
    "!wget --no-check-certificate \\\n",
    "    https://storage.googleapis.com/ibeans/validation.zip \\\n",
    "    -O /tmp/validation.zip\n",
    "\n",
    "!wget --no-check-certificate \\\n",
    "    https://storage.googleapis.com/ibeans/test.zip \\\n",
    "    -O /tmp/test.zip"
   ]
  },
  {
   "cell_type": "code",
   "execution_count": 3,
   "metadata": {},
   "outputs": [],
   "source": [
    "# extract the zip files\n",
    "import os, zipfile, shutil\n",
    "BD_PATH = '/tmp/BeanDiseaseClassifier'\n",
    "\n",
    "if os.path.exists(BD_PATH):\n",
    "    shutil.rmtree(BD_PATH)\n",
    "try:\n",
    "    os.mkdir('/tmp/BeanDiseaseClassifier')\n",
    "except OSError as e:\n",
    "    print(\"Error %s, %s\" % (BD_PATH, e.strerror))\n",
    "    pass\n",
    "\n",
    "zip_file = zipfile.ZipFile('/tmp/train.zip', 'r')\n",
    "zip_file.extractall(BD_PATH)\n",
    "zip_file = zipfile.ZipFile('/tmp/validation.zip', 'r')\n",
    "zip_file.extractall(BD_PATH)\n",
    "zip_file = zipfile.ZipFile('/tmp/test.zip', 'r')\n",
    "zip_file.extractall(BD_PATH)\n",
    "zip_file.close()"
   ]
  },
  {
   "cell_type": "code",
   "execution_count": 6,
   "metadata": {
    "tags": []
   },
   "outputs": [
    {
     "output_type": "stream",
     "name": "stdout",
     "text": [
      " BeanDiseaseClassifier\n     validation\n         angular_leaf_spot\n             44\n         bean_rust\n             45\n         healthy\n             44\n     test\n         angular_leaf_spot\n             43\n         bean_rust\n             43\n         healthy\n             42\n     train\n         angular_leaf_spot\n             345\n         bean_rust\n             348\n         healthy\n             342\n"
     ]
    }
   ],
   "source": [
    "# let's checkout the content of the zip files\n",
    "for root, dirs, files in os.walk(BD_PATH):\n",
    "    level = root.replace(BD_PATH, '').count(os.sep)\n",
    "    indent = ' ' * 4 * level\n",
    "    print(f'{indent} {os.path.basename(root)}')\n",
    "    sub_indent = ' ' * 4 * (level + 1)\n",
    "    file_count = 0 \n",
    "    for f in files:\n",
    "        file_count+=1\n",
    "    if file_count > 0:\n",
    "        print(f'{sub_indent} {file_count}')"
   ]
  },
  {
   "cell_type": "code",
   "execution_count": null,
   "metadata": {},
   "outputs": [],
   "source": []
  }
 ]
}