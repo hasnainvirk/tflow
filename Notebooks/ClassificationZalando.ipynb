{
 "metadata": {
  "language_info": {
   "codemirror_mode": {
    "name": "ipython",
    "version": 3
   },
   "file_extension": ".py",
   "mimetype": "text/x-python",
   "name": "python",
   "nbconvert_exporter": "python",
   "pygments_lexer": "ipython3",
   "version": 3
  },
  "orig_nbformat": 2
 },
 "nbformat": 4,
 "nbformat_minor": 2,
 "cells": [
  {
   "source": [
    "# Classification With Fashion-MNIST\n",
    "fashion-mnist data set is licensed by Zalando. It has images for fashion items labeled from 0 to 9. Each image is 28x28 pixels. Each pixel is RGB "
   ],
   "cell_type": "markdown",
   "metadata": {}
  }
 ]
}